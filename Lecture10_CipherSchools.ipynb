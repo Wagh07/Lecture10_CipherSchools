{
  "nbformat": 4,
  "nbformat_minor": 0,
  "metadata": {
    "colab": {
      "provenance": []
    },
    "kernelspec": {
      "name": "python3",
      "display_name": "Python 3"
    },
    "language_info": {
      "name": "python"
    }
  },
  "cells": [
    {
      "cell_type": "code",
      "source": [
        "# Tuple is similar to lists datatype but immutable\n",
        "\n",
        "\n",
        "t=()\n",
        "\n",
        "print(type(t))\n",
        "\n",
        "\"\"\" It can also be initialised as\"\"\"\n",
        "\n",
        "tup=tuple()\n",
        "\n",
        "print(type(tup))\n",
        "\n",
        "t=(1,2,3,4)\n",
        "\n",
        "print(t)\n",
        "\n",
        "''' tuple also heterogenous'''\n",
        "\n",
        "x=(1,'Python',1.2)\n",
        "print(x)\n",
        "\n",
        "'''Nested tuple '''\n",
        "\n",
        "nest_tup=(1,(1,2,3),[1,2,3])\n",
        "print(nest_tup)\n",
        "\n",
        "'''Deleting a tuple'''\n",
        "\n",
        "del nest_tup\n",
        "\n",
        "\n",
        "\"\"\" Indexing , Slicing similar to lists \"\"\"\n",
        "\n",
        "print(t[0:3])\n",
        "\n",
        "\n",
        "print(t[-1])\n"
      ],
      "metadata": {
        "colab": {
          "base_uri": "https://localhost:8080/"
        },
        "id": "yX9ydD1z6DYp",
        "outputId": "d834b76c-f49d-4ca2-fd08-2cdaabeccb25"
      },
      "execution_count": 42,
      "outputs": [
        {
          "output_type": "stream",
          "name": "stdout",
          "text": [
            "<class 'tuple'>\n",
            "<class 'tuple'>\n",
            "(1, 2, 3, 4)\n",
            "(1, 'Python', 1.2)\n",
            "(1, (1, 2, 3), [1, 2, 3])\n",
            "(1, 2, 3)\n",
            "4\n"
          ]
        }
      ]
    },
    {
      "cell_type": "code",
      "source": [
        "# IMP rules for a tuple\n",
        "\n",
        "t=(1)\n",
        "\n",
        "print(type(t))\n",
        "\n",
        "x=1,2\n",
        "print(type(x))\n",
        "\n",
        "p=(1,)\n",
        "print(type(p))"
      ],
      "metadata": {
        "colab": {
          "base_uri": "https://localhost:8080/"
        },
        "id": "nt1IRI_X9HBN",
        "outputId": "4d18efc4-95e6-4285-a511-8d649768fcda"
      },
      "execution_count": 45,
      "outputs": [
        {
          "output_type": "stream",
          "name": "stdout",
          "text": [
            "<class 'int'>\n",
            "<class 'tuple'>\n",
            "<class 'tuple'>\n"
          ]
        }
      ]
    },
    {
      "cell_type": "code",
      "source": [
        "# Methods of Tuple\n",
        "\n",
        "s=(1,2,3,4,5,1,1,1,6,7,8,9)\n",
        "\n",
        "print(type(s))\n",
        "\n",
        "print(s.count(1))\n",
        "\n",
        "print(s.index(7))\n",
        "\n",
        "print(len(s))\n",
        "\n",
        "print(max(s))\n",
        "\n",
        "print(sum(s))"
      ],
      "metadata": {
        "colab": {
          "base_uri": "https://localhost:8080/"
        },
        "id": "J3WmIIF39jma",
        "outputId": "4c5b8267-5e18-4c6a-9818-a1342dac1acc"
      },
      "execution_count": 50,
      "outputs": [
        {
          "output_type": "stream",
          "name": "stdout",
          "text": [
            "<class 'tuple'>\n",
            "4\n",
            "9\n",
            "12\n",
            "9\n",
            "48\n"
          ]
        }
      ]
    }
  ]
}